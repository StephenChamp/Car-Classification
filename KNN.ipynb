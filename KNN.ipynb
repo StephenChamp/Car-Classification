{
 "cells": [
  {
   "cell_type": "markdown",
   "metadata": {},
   "source": [
    "# K-Nearest Neighbors Classifier"
   ]
  },
  {
   "cell_type": "markdown",
   "metadata": {},
   "source": [
    "## 1. Importing Libararies"
   ]
  },
  {
   "cell_type": "code",
   "execution_count": 37,
   "metadata": {},
   "outputs": [],
   "source": [
    "# Importing libraries\n",
    "import pandas as pd\n",
    "import numpy as np\n",
    "import matplotlib.pyplot as plt\n",
    "%matplotlib inline\n",
    "from sklearn import neighbors, datasets\n",
    "from sklearn.model_selection import GridSearchCV, cross_val_score, KFold\n",
    "from sklearn.model_selection import StratifiedKFold\n",
    "from sklearn.decomposition import PCA\n",
    "from sklearn.preprocessing import StandardScaler\n",
    "from sklearn.linear_model import LogisticRegression\n",
    "from sklearn.model_selection import GridSearchCV, cross_val_score, learning_curve, train_test_split,KFold\n",
    "from sklearn.metrics import precision_score, recall_score, confusion_matrix, auc, roc_curve, precision_recall_curve, accuracy_score, classification_report, f1_score, average_precision_score, precision_recall_fscore_support"
   ]
  },
  {
   "cell_type": "markdown",
   "metadata": {},
   "source": [
    "## 2. Importing data"
   ]
  },
  {
   "cell_type": "code",
   "execution_count": 46,
   "metadata": {},
   "outputs": [
    {
     "data": {
      "text/html": [
       "<div>\n",
       "<style scoped>\n",
       "    .dataframe tbody tr th:only-of-type {\n",
       "        vertical-align: middle;\n",
       "    }\n",
       "\n",
       "    .dataframe tbody tr th {\n",
       "        vertical-align: top;\n",
       "    }\n",
       "\n",
       "    .dataframe thead th {\n",
       "        text-align: right;\n",
       "    }\n",
       "</style>\n",
       "<table border=\"1\" class=\"dataframe\">\n",
       "  <thead>\n",
       "    <tr style=\"text-align: right;\">\n",
       "      <th></th>\n",
       "      <th>buying</th>\n",
       "      <th>maint</th>\n",
       "      <th>doors</th>\n",
       "      <th>persons</th>\n",
       "      <th>lug_boot</th>\n",
       "      <th>safety</th>\n",
       "      <th>class_evaluation</th>\n",
       "    </tr>\n",
       "  </thead>\n",
       "  <tbody>\n",
       "    <tr>\n",
       "      <th>count</th>\n",
       "      <td>1728</td>\n",
       "      <td>1728</td>\n",
       "      <td>1728</td>\n",
       "      <td>1728</td>\n",
       "      <td>1728</td>\n",
       "      <td>1728</td>\n",
       "      <td>1728</td>\n",
       "    </tr>\n",
       "    <tr>\n",
       "      <th>unique</th>\n",
       "      <td>4</td>\n",
       "      <td>4</td>\n",
       "      <td>4</td>\n",
       "      <td>3</td>\n",
       "      <td>3</td>\n",
       "      <td>3</td>\n",
       "      <td>4</td>\n",
       "    </tr>\n",
       "    <tr>\n",
       "      <th>top</th>\n",
       "      <td>low</td>\n",
       "      <td>low</td>\n",
       "      <td>3</td>\n",
       "      <td>more</td>\n",
       "      <td>small</td>\n",
       "      <td>low</td>\n",
       "      <td>unacc</td>\n",
       "    </tr>\n",
       "    <tr>\n",
       "      <th>freq</th>\n",
       "      <td>432</td>\n",
       "      <td>432</td>\n",
       "      <td>432</td>\n",
       "      <td>576</td>\n",
       "      <td>576</td>\n",
       "      <td>576</td>\n",
       "      <td>1210</td>\n",
       "    </tr>\n",
       "  </tbody>\n",
       "</table>\n",
       "</div>"
      ],
      "text/plain": [
       "       buying maint doors persons lug_boot safety class_evaluation\n",
       "count    1728  1728  1728    1728     1728   1728             1728\n",
       "unique      4     4     4       3        3      3                4\n",
       "top       low   low     3    more    small    low            unacc\n",
       "freq      432   432   432     576      576    576             1210"
      ]
     },
     "execution_count": 46,
     "metadata": {},
     "output_type": "execute_result"
    }
   ],
   "source": [
    "# Reading data\n",
    "raw_data= pd.read_csv(\"car.txt\", header  = None, names = ['buying','maint','doors','persons','lug_boot','safety', 'class_evaluation'])\n",
    "\n",
    "# Exploring data sturcture\n",
    "raw_data.head()\n",
    "raw_data.describe()\n",
    "#raw_data.class_evaluation.unique()\n"
   ]
  },
  {
   "cell_type": "markdown",
   "metadata": {},
   "source": [
    "## I. RUN model with numeric data "
   ]
  },
  {
   "cell_type": "code",
   "execution_count": 47,
   "metadata": {},
   "outputs": [
    {
     "data": {
      "text/html": [
       "<div>\n",
       "<style scoped>\n",
       "    .dataframe tbody tr th:only-of-type {\n",
       "        vertical-align: middle;\n",
       "    }\n",
       "\n",
       "    .dataframe tbody tr th {\n",
       "        vertical-align: top;\n",
       "    }\n",
       "\n",
       "    .dataframe thead th {\n",
       "        text-align: right;\n",
       "    }\n",
       "</style>\n",
       "<table border=\"1\" class=\"dataframe\">\n",
       "  <thead>\n",
       "    <tr style=\"text-align: right;\">\n",
       "      <th></th>\n",
       "      <th>buying</th>\n",
       "      <th>maint</th>\n",
       "      <th>doors</th>\n",
       "      <th>persons</th>\n",
       "      <th>lug_boot</th>\n",
       "      <th>safety</th>\n",
       "      <th>class_evaluation</th>\n",
       "    </tr>\n",
       "  </thead>\n",
       "  <tbody>\n",
       "    <tr>\n",
       "      <th>0</th>\n",
       "      <td>3</td>\n",
       "      <td>3</td>\n",
       "      <td>0</td>\n",
       "      <td>0</td>\n",
       "      <td>0</td>\n",
       "      <td>0</td>\n",
       "      <td>unacc</td>\n",
       "    </tr>\n",
       "    <tr>\n",
       "      <th>1</th>\n",
       "      <td>3</td>\n",
       "      <td>3</td>\n",
       "      <td>0</td>\n",
       "      <td>0</td>\n",
       "      <td>0</td>\n",
       "      <td>1</td>\n",
       "      <td>unacc</td>\n",
       "    </tr>\n",
       "    <tr>\n",
       "      <th>2</th>\n",
       "      <td>3</td>\n",
       "      <td>3</td>\n",
       "      <td>0</td>\n",
       "      <td>0</td>\n",
       "      <td>0</td>\n",
       "      <td>2</td>\n",
       "      <td>unacc</td>\n",
       "    </tr>\n",
       "    <tr>\n",
       "      <th>3</th>\n",
       "      <td>3</td>\n",
       "      <td>3</td>\n",
       "      <td>0</td>\n",
       "      <td>0</td>\n",
       "      <td>1</td>\n",
       "      <td>0</td>\n",
       "      <td>unacc</td>\n",
       "    </tr>\n",
       "    <tr>\n",
       "      <th>4</th>\n",
       "      <td>3</td>\n",
       "      <td>3</td>\n",
       "      <td>0</td>\n",
       "      <td>0</td>\n",
       "      <td>1</td>\n",
       "      <td>1</td>\n",
       "      <td>unacc</td>\n",
       "    </tr>\n",
       "  </tbody>\n",
       "</table>\n",
       "</div>"
      ],
      "text/plain": [
       "   buying  maint  doors  persons  lug_boot  safety class_evaluation\n",
       "0       3      3      0        0         0       0            unacc\n",
       "1       3      3      0        0         0       1            unacc\n",
       "2       3      3      0        0         0       2            unacc\n",
       "3       3      3      0        0         1       0            unacc\n",
       "4       3      3      0        0         1       1            unacc"
      ]
     },
     "execution_count": 47,
     "metadata": {},
     "output_type": "execute_result"
    }
   ],
   "source": [
    "# Using numeric data to run model \n",
    "\n",
    "# Replacing target variable with 1 and 0 inplace of M and B\n",
    "#raw_data.target.replace(to_replace= {\"M\": 1, \"B\": 0}, inplace=True)\n",
    "raw_data[\"buying\"].replace(to_replace ={\"low\":0,\"med\":1,\"high\":2,\"vhigh\":3}, inplace= True)\n",
    "raw_data[\"maint\"].replace(to_replace ={\"low\":0,\"med\":1,\"high\":2,\"vhigh\":3}, inplace= True)\n",
    "raw_data[\"lug_boot\"].replace(to_replace ={\"small\":0,\"med\":1,\"big\":2}, inplace= True)\n",
    "raw_data[\"safety\"].replace(to_replace ={\"low\":0,\"med\":1,\"high\":2}, inplace= True)\n",
    "raw_data[\"doors\"].replace(to_replace ={\"2\":0,\"3\":1,\"4\":2,\"5more\":3}, inplace= True)\n",
    "raw_data[\"persons\"].replace(to_replace ={\"2\":0,\"4\":1,\"more\":2}, inplace= True)\n",
    "raw_data.head()\n"
   ]
  },
  {
   "cell_type": "markdown",
   "metadata": {},
   "source": [
    "## 3. Exploratory Data Analysis"
   ]
  },
  {
   "cell_type": "code",
   "execution_count": 40,
   "metadata": {},
   "outputs": [
    {
     "data": {
      "image/png": "[encoded data removed]",
      "text/plain": [
       "<Figure size 432x288 with 1 Axes>"
      ]
     },
     "metadata": {},
     "output_type": "display_data"
    }
   ],
   "source": [
    "# Understanding distribution of target variable\n",
    "raw_data[\"class_evaluation\"].value_counts().plot(\"bar\")\n",
    "plt.title(\"Distribution of target variable\")\n",
    "plt.show() "
   ]
  },
  {
   "cell_type": "markdown",
   "metadata": {},
   "source": [
    "## 4. Treatments for training, validation and test data"
   ]
  },
  {
   "cell_type": "code",
   "execution_count": 48,
   "metadata": {},
   "outputs": [
    {
     "name": "stdout",
     "output_type": "stream",
     "text": [
      "Dimensions of Train, Validation and Test split\n",
      "Train x: (1382, 6)\n",
      "Train y: (1382,)\n",
      "Test x: (346, 6)\n",
      "Test y: (346,)\n"
     ]
    }
   ],
   "source": [
    "# Splitting the raw data as train and test\n",
    "x = raw_data.iloc[:, :6]\n",
    "y = raw_data['class_evaluation']\n",
    "\n",
    "# Splitting into train+val and test\n",
    "trainval_x, test_x, trainval_y, test_y = train_test_split(x, y, test_size = 0.2, stratify=y, random_state=1000)\n",
    "\n",
    "#Splitting into train and validation using stratified sampling\n",
    "#train_x, val_x, train_y, val_y = train_test_split(trainval_x, trainval_y, test_size = 0.125, stratify=trainval_y, random_state=1000)\n",
    "\n",
    "# Printing the number of records for the train, test and validation sets\n",
    "print(\"Dimensions of Train, Validation and Test split\")\n",
    "print(\"Train x:\", trainval_x.shape)\n",
    "print(\"Train y:\", trainval_y.shape)\n",
    "#print(\"Validation x:\", val_x.shape)\n",
    "#print(\"Validation y:\", val_y.shape)\n",
    "print(\"Test x:\", test_x.shape)\n",
    "print(\"Test y:\", test_y.shape)"
   ]
  },
  {
   "cell_type": "code",
   "execution_count": 49,
   "metadata": {},
   "outputs": [],
   "source": [
    "# Standardization with respect to the 80% dataset (Training part of training and validation set)\n",
    "scaler = StandardScaler()\n",
    "scaler.fit(trainval_x)\n",
    "\n",
    "trainval_x = scaler.transform(trainval_x)\n",
    "test_x = scaler.transform(test_x)\n",
    "#train_x = scaler.transform(train_x)\n",
    "#val_x = scaler.transform(val_x)"
   ]
  },
  {
   "cell_type": "markdown",
   "metadata": {},
   "source": [
    "## 5. Identifying  optimal hyperparameter(k) using cross-validation"
   ]
  },
  {
   "cell_type": "code",
   "execution_count": 50,
   "metadata": {},
   "outputs": [
    {
     "name": "stdout",
     "output_type": "stream",
     "text": [
      "k\tMean\tStd\n",
      "1 \t0.9471\t0.0271\n",
      "2 \t0.9159\t0.0211\n",
      "3 \t0.9543\t0.0212\n",
      "4 \t0.9333\t0.0242\n",
      "5 \t0.9558\t0.0118\n",
      "6 \t0.9529\t0.0133\n",
      "7 \t0.9543\t0.0206\n",
      "8 \t0.9478\t0.0194\n",
      "9 \t0.9536\t0.0194\n",
      "10 \t0.9500\t0.0165\n",
      "11 \t0.9558\t0.0157\n",
      "12 \t0.9500\t0.0145\n",
      "13 \t0.9479\t0.0129\n",
      "14 \t0.9443\t0.0144\n",
      "15 \t0.9407\t0.0148\n",
      "16 \t0.9421\t0.0167\n",
      "17 \t0.9399\t0.0165\n",
      "18 \t0.9356\t0.0173\n",
      "19 \t0.9341\t0.0128\n",
      "20 \t0.9334\t0.0179\n"
     ]
    }
   ],
   "source": [
    "#  Cross validation for hyperparameter tuning manually \n",
    "mean_v=[]\n",
    "std_v=[]\n",
    "for i in range(1, 21, 1):\n",
    "    classifier = neighbors.KNeighborsClassifier(n_neighbors=i)\n",
    "    scores = cross_val_score(classifier, trainval_x, trainval_y, cv=10, scoring=\"accuracy\")\n",
    "    mean_v.append(scores.mean())\n",
    "    std_v.append(scores.std())\n",
    "\n",
    "print(\"k\\tMean\\tStd\")\n",
    "for num, i, j in zip(range(1, 21, 1), mean_v, std_v):\n",
    "    print(num,'\\t{0:.4f}\\t{1:.4f}'.format(i, j))"
   ]
  },
  {
   "cell_type": "code",
   "execution_count": 51,
   "metadata": {},
   "outputs": [
    {
     "name": "stdout",
     "output_type": "stream",
     "text": [
      "{'n_neighbors': 6, 'weights': 'distance'}\n",
      "1.0\n"
     ]
    }
   ],
   "source": [
    "# grid search cross validation to find best hyperparameter automatically \n",
    "classifier2 = neighbors.KNeighborsClassifier()\n",
    "k_range = range(1,20)\n",
    "parameters = {'n_neighbors': k_range,\n",
    "              'weights' : ['uniform', 'distance'],\n",
    "             }\n",
    "\n",
    "clf = GridSearchCV(classifier2, parameters, cv=10)\n",
    "\n",
    "# Fitting the taining data \n",
    "clf.fit(trainval_x, trainval_y)\n",
    "print(clf.best_params_)\n",
    "\n",
    "# Accuracy on training data\n",
    "print(clf.score(trainval_x,trainval_y))"
   ]
  },
  {
   "cell_type": "code",
   "execution_count": 57,
   "metadata": {},
   "outputs": [
    {
     "name": "stdout",
     "output_type": "stream",
     "text": [
      "[0.9493612297897294, 0.9348810421378906, 0.9471747507749015, 0.9327113177515288, 0.9413902152969758, 0.9298253329982408, 0.9413818379827428, 0.9261749183211863, 0.9312620423892102, 0.9471768451034598]\n"
     ]
    }
   ],
   "source": [
    "#  Nested Cross validation for optimal hyperparameter= 6 \n",
    "mean_v= []\n",
    "std_v =[]\n",
    "NUM_TRIALS = 10\n",
    "for j in range(NUM_TRIALS):\n",
    "        classifier = neighbors.KNeighborsClassifier(n_neighbors =6)\n",
    "        outer_cv = KFold(n_splits=4, shuffle=True, random_state=j)\n",
    "        scores = cross_val_score(classifier, trainval_x, trainval_y, cv=outer_cv, scoring=\"accuracy\")\n",
    "        mean_v.append(scores.mean())\n",
    "        std_v.append(scores.std())\n",
    "        \n",
    "print(mean_v)"
   ]
  },
  {
   "cell_type": "markdown",
   "metadata": {},
   "source": [
    "From the cross validation, we can see that the k= 5-11 have highest means around 95%.\n",
    "Then we run the grid search cross validation from k= 1- 20; automatically it gives us the best parameter, which is 6, with 100%. Running many trials o cross validation, the accuracy ratios stay around 94%. With all above observations, we choose k= 6.  "
   ]
  },
  {
   "cell_type": "markdown",
   "metadata": {},
   "source": [
    "## 7. Final model training and evaluation"
   ]
  },
  {
   "cell_type": "code",
   "execution_count": 58,
   "metadata": {
    "scrolled": true
   },
   "outputs": [
    {
     "name": "stdout",
     "output_type": "stream",
     "text": [
      "Confusion Matrix\n",
      "[[ 75   1   1   0]\n",
      " [  6   8   0   0]\n",
      " [  3   0 239   0]\n",
      " [  4   0   0   9]]\n",
      "\n",
      "Classification Report\n",
      "             precision    recall  f1-score   support\n",
      "\n",
      "        acc       0.85      0.97      0.91        77\n",
      "       good       0.89      0.57      0.70        14\n",
      "      unacc       1.00      0.99      0.99       242\n",
      "      vgood       1.00      0.69      0.82        13\n",
      "\n",
      "avg / total       0.96      0.96      0.95       346\n",
      "\n"
     ]
    }
   ],
   "source": [
    "# Using k = 6 for predicting on test to find accuracy\n",
    "classifier = neighbors.KNeighborsClassifier(n_neighbors = 6)\n",
    "classifier.fit(trainval_x, trainval_y)\n",
    "\n",
    "# Validation\n",
    "pred_test_y = classifier.predict(test_x)\n",
    "\n",
    "# Results of classification - Confusion matrix, precision, recall and F1-score\n",
    "print(\"Confusion Matrix\")\n",
    "print(confusion_matrix(test_y, pred_test_y))\n",
    "#print(\"\\nF1-score = {0:.4f}\\n\".format(f1_score(test_y, pred_test_y, pos_label=1, average='binary')))\n",
    "print(\"\\nClassification Report\")\n",
    "print(classification_report(test_y, pred_test_y))\n"
   ]
  },
  {
   "cell_type": "code",
   "execution_count": null,
   "metadata": {},
   "outputs": [],
   "source": [
    "When class_evaluation is acc , the accuracy rate is 85%;\n",
    "When class_evaluation is good , the accuracy rate is 89%;\n",
    "When class_evaluation is unacc , the accuracy rate is 100%;\n",
    "When class_evaluation is vgood , the accuracy rate is 100%;\n",
    "From here, we can see that performances of evaluation classified with unacc and vgood are best. "
   ]
  },
  {
   "cell_type": "markdown",
   "metadata": {},
   "source": [
    "## II. Run KNN model for Categorical Data "
   ]
  },
  {
   "cell_type": "markdown",
   "metadata": {},
   "source": [
    "## 2. Converting to Categorical Data"
   ]
  },
  {
   "cell_type": "code",
   "execution_count": 59,
   "metadata": {},
   "outputs": [
    {
     "data": {
      "text/html": [
       "<div>\n",
       "<style scoped>\n",
       "    .dataframe tbody tr th:only-of-type {\n",
       "        vertical-align: middle;\n",
       "    }\n",
       "\n",
       "    .dataframe tbody tr th {\n",
       "        vertical-align: top;\n",
       "    }\n",
       "\n",
       "    .dataframe thead th {\n",
       "        text-align: right;\n",
       "    }\n",
       "</style>\n",
       "<table border=\"1\" class=\"dataframe\">\n",
       "  <thead>\n",
       "    <tr style=\"text-align: right;\">\n",
       "      <th></th>\n",
       "      <th>class_evaluation</th>\n",
       "      <th>buying_high</th>\n",
       "      <th>buying_low</th>\n",
       "      <th>buying_med</th>\n",
       "      <th>buying_vhigh</th>\n",
       "      <th>maint_high</th>\n",
       "      <th>maint_low</th>\n",
       "      <th>maint_med</th>\n",
       "      <th>maint_vhigh</th>\n",
       "      <th>lug_boot_big</th>\n",
       "      <th>...</th>\n",
       "      <th>safety_high</th>\n",
       "      <th>safety_low</th>\n",
       "      <th>safety_med</th>\n",
       "      <th>doors_2</th>\n",
       "      <th>doors_3</th>\n",
       "      <th>doors_4</th>\n",
       "      <th>doors_5more</th>\n",
       "      <th>persons_2</th>\n",
       "      <th>persons_4</th>\n",
       "      <th>persons_more</th>\n",
       "    </tr>\n",
       "  </thead>\n",
       "  <tbody>\n",
       "    <tr>\n",
       "      <th>0</th>\n",
       "      <td>unacc</td>\n",
       "      <td>0</td>\n",
       "      <td>0</td>\n",
       "      <td>0</td>\n",
       "      <td>1</td>\n",
       "      <td>0</td>\n",
       "      <td>0</td>\n",
       "      <td>0</td>\n",
       "      <td>1</td>\n",
       "      <td>0</td>\n",
       "      <td>...</td>\n",
       "      <td>0</td>\n",
       "      <td>1</td>\n",
       "      <td>0</td>\n",
       "      <td>1</td>\n",
       "      <td>0</td>\n",
       "      <td>0</td>\n",
       "      <td>0</td>\n",
       "      <td>1</td>\n",
       "      <td>0</td>\n",
       "      <td>0</td>\n",
       "    </tr>\n",
       "    <tr>\n",
       "      <th>1</th>\n",
       "      <td>unacc</td>\n",
       "      <td>0</td>\n",
       "      <td>0</td>\n",
       "      <td>0</td>\n",
       "      <td>1</td>\n",
       "      <td>0</td>\n",
       "      <td>0</td>\n",
       "      <td>0</td>\n",
       "      <td>1</td>\n",
       "      <td>0</td>\n",
       "      <td>...</td>\n",
       "      <td>0</td>\n",
       "      <td>0</td>\n",
       "      <td>1</td>\n",
       "      <td>1</td>\n",
       "      <td>0</td>\n",
       "      <td>0</td>\n",
       "      <td>0</td>\n",
       "      <td>1</td>\n",
       "      <td>0</td>\n",
       "      <td>0</td>\n",
       "    </tr>\n",
       "    <tr>\n",
       "      <th>2</th>\n",
       "      <td>unacc</td>\n",
       "      <td>0</td>\n",
       "      <td>0</td>\n",
       "      <td>0</td>\n",
       "      <td>1</td>\n",
       "      <td>0</td>\n",
       "      <td>0</td>\n",
       "      <td>0</td>\n",
       "      <td>1</td>\n",
       "      <td>0</td>\n",
       "      <td>...</td>\n",
       "      <td>1</td>\n",
       "      <td>0</td>\n",
       "      <td>0</td>\n",
       "      <td>1</td>\n",
       "      <td>0</td>\n",
       "      <td>0</td>\n",
       "      <td>0</td>\n",
       "      <td>1</td>\n",
       "      <td>0</td>\n",
       "      <td>0</td>\n",
       "    </tr>\n",
       "    <tr>\n",
       "      <th>3</th>\n",
       "      <td>unacc</td>\n",
       "      <td>0</td>\n",
       "      <td>0</td>\n",
       "      <td>0</td>\n",
       "      <td>1</td>\n",
       "      <td>0</td>\n",
       "      <td>0</td>\n",
       "      <td>0</td>\n",
       "      <td>1</td>\n",
       "      <td>0</td>\n",
       "      <td>...</td>\n",
       "      <td>0</td>\n",
       "      <td>1</td>\n",
       "      <td>0</td>\n",
       "      <td>1</td>\n",
       "      <td>0</td>\n",
       "      <td>0</td>\n",
       "      <td>0</td>\n",
       "      <td>1</td>\n",
       "      <td>0</td>\n",
       "      <td>0</td>\n",
       "    </tr>\n",
       "    <tr>\n",
       "      <th>4</th>\n",
       "      <td>unacc</td>\n",
       "      <td>0</td>\n",
       "      <td>0</td>\n",
       "      <td>0</td>\n",
       "      <td>1</td>\n",
       "      <td>0</td>\n",
       "      <td>0</td>\n",
       "      <td>0</td>\n",
       "      <td>1</td>\n",
       "      <td>0</td>\n",
       "      <td>...</td>\n",
       "      <td>0</td>\n",
       "      <td>0</td>\n",
       "      <td>1</td>\n",
       "      <td>1</td>\n",
       "      <td>0</td>\n",
       "      <td>0</td>\n",
       "      <td>0</td>\n",
       "      <td>1</td>\n",
       "      <td>0</td>\n",
       "      <td>0</td>\n",
       "    </tr>\n",
       "  </tbody>\n",
       "</table>\n",
       "<p>5 rows × 22 columns</p>\n",
       "</div>"
      ],
      "text/plain": [
       "  class_evaluation  buying_high  buying_low  buying_med  buying_vhigh  \\\n",
       "0            unacc            0           0           0             1   \n",
       "1            unacc            0           0           0             1   \n",
       "2            unacc            0           0           0             1   \n",
       "3            unacc            0           0           0             1   \n",
       "4            unacc            0           0           0             1   \n",
       "\n",
       "   maint_high  maint_low  maint_med  maint_vhigh  lug_boot_big      ...       \\\n",
       "0           0          0          0            1             0      ...        \n",
       "1           0          0          0            1             0      ...        \n",
       "2           0          0          0            1             0      ...        \n",
       "3           0          0          0            1             0      ...        \n",
       "4           0          0          0            1             0      ...        \n",
       "\n",
       "   safety_high  safety_low  safety_med  doors_2  doors_3  doors_4  \\\n",
       "0            0           1           0        1        0        0   \n",
       "1            0           0           1        1        0        0   \n",
       "2            1           0           0        1        0        0   \n",
       "3            0           1           0        1        0        0   \n",
       "4            0           0           1        1        0        0   \n",
       "\n",
       "   doors_5more  persons_2  persons_4  persons_more  \n",
       "0            0          1          0             0  \n",
       "1            0          1          0             0  \n",
       "2            0          1          0             0  \n",
       "3            0          1          0             0  \n",
       "4            0          1          0             0  \n",
       "\n",
       "[5 rows x 22 columns]"
      ]
     },
     "execution_count": 59,
     "metadata": {},
     "output_type": "execute_result"
    }
   ],
   "source": [
    "# Reading data\n",
    "raw_data= pd.read_csv(\"car.txt\", header  = None, names = ['buying','maint','doors','persons','lug_boot','safety', 'class_evaluation'])\n",
    "\n",
    "# categorical data\n",
    "category_col =[\"buying\",\"maint\", \"lug_boot\", \"safety\", \"doors\",\"persons\"] \n",
    "raw_data = pd.get_dummies(raw_data, columns=category_col)\n",
    "raw_data.head()\n"
   ]
  },
  {
   "cell_type": "markdown",
   "metadata": {},
   "source": [
    "## 3. Split data and cross validation for find optimal hyperparameter "
   ]
  },
  {
   "cell_type": "code",
   "execution_count": 61,
   "metadata": {},
   "outputs": [
    {
     "name": "stdout",
     "output_type": "stream",
     "text": [
      "Dimensions of Train, Validation and Test split\n",
      "Train x: (1382, 21)\n",
      "Train y: (1382,)\n",
      "Test x: (346, 21)\n",
      "Test y: (346,)\n",
      "k\tMean\tStd\n",
      "1 \t0.7765\t0.0237\n",
      "2 \t0.7742\t0.0317\n",
      "3 \t0.8487\t0.0264\n",
      "4 \t0.8503\t0.0259\n",
      "5 \t0.8922\t0.0138\n",
      "6 \t0.8979\t0.0121\n",
      "7 \t0.9153\t0.0172\n",
      "8 \t0.9074\t0.0106\n",
      "9 \t0.9363\t0.0145\n",
      "10 \t0.9261\t0.0165\n",
      "11 \t0.9312\t0.0141\n",
      "12 \t0.9102\t0.0183\n",
      "13 \t0.9109\t0.0164\n",
      "14 \t0.9037\t0.0273\n",
      "15 \t0.9022\t0.0250\n",
      "16 \t0.8935\t0.0271\n",
      "17 \t0.8769\t0.0272\n",
      "18 \t0.8697\t0.0171\n",
      "19 \t0.8698\t0.0208\n",
      "20 \t0.8647\t0.0209\n"
     ]
    }
   ],
   "source": [
    "# Splitting the raw data as train and test\n",
    "x = raw_data.iloc[:, 1:]\n",
    "y = raw_data['class_evaluation']\n",
    "\n",
    "# Splitting into train+val and test\n",
    "trainval_x, test_x, trainval_y, test_y = train_test_split(x, y, test_size = 0.2, stratify=y, random_state=1000)\n",
    "\n",
    "# Splitting into train and validation using stratified sampling\n",
    "#train_x, val_x, train_y, val_y = train_test_split(trainval_x, trainval_y, test_size = 0.125, stratify=trainval_y, random_state=1000)\n",
    "\n",
    "# Printing the number of records for the train, test and validation sets\n",
    "print(\"Dimensions of Train, Validation and Test split\")\n",
    "print(\"Train x:\", trainval_x.shape)\n",
    "print(\"Train y:\", trainval_y.shape)\n",
    "#print(\"Validation x:\", val_x.shape)\n",
    "#print(\"Validation y:\", val_y.shape)\n",
    "print(\"Test x:\", test_x.shape)\n",
    "print(\"Test y:\", test_y.shape)\n",
    "\n",
    "#  Cross validation for hyperparameter tuning\n",
    "#  Cross validation for hyperparameter tuning manually \n",
    "mean_v=[]\n",
    "std_v=[]\n",
    "for i in range(1, 21, 1):\n",
    "    classifier = neighbors.KNeighborsClassifier(n_neighbors=i)\n",
    "    scores = cross_val_score(classifier, trainval_x, trainval_y, cv=10, scoring=\"accuracy\")\n",
    "    mean_v.append(scores.mean())\n",
    "    std_v.append(scores.std())\n",
    "\n",
    "print(\"k\\tMean\\tStd\")\n",
    "for num, i, j in zip(range(1, 21, 1), mean_v, std_v):\n",
    "    print(num,'\\t{0:.4f}\\t{1:.4f}'.format(i, j))"
   ]
  },
  {
   "cell_type": "markdown",
   "metadata": {},
   "source": [
    "## 3. Using grid search cross validation to find the best hyperparameter "
   ]
  },
  {
   "cell_type": "code",
   "execution_count": 62,
   "metadata": {},
   "outputs": [
    {
     "name": "stdout",
     "output_type": "stream",
     "text": [
      "{'n_neighbors': 9, 'weights': 'uniform'}\n",
      "0.9616497829232996\n"
     ]
    }
   ],
   "source": [
    "# grid search cross validation to find best hyperparameter automatically \n",
    "classifier3 = neighbors.KNeighborsClassifier()\n",
    "k_range = range(1,20)\n",
    "parameters = {'n_neighbors': k_range,\n",
    "              'weights' : ['uniform', 'distance'],\n",
    "             }\n",
    "\n",
    "clf = GridSearchCV(classifier3, parameters, cv=10)\n",
    "\n",
    "# Fitting the taining data \n",
    "clf.fit(trainval_x, trainval_y)\n",
    "print(clf.best_params_)\n",
    "\n",
    "# Accuracy on training data\n",
    "print(clf.score(trainval_x,trainval_y))"
   ]
  },
  {
   "cell_type": "markdown",
   "metadata": {},
   "source": [
    "## 4. Run the final model of categorical data "
   ]
  },
  {
   "cell_type": "code",
   "execution_count": 63,
   "metadata": {},
   "outputs": [
    {
     "name": "stdout",
     "output_type": "stream",
     "text": [
      "Confusion Matrix\n",
      "[[ 61   0  16   0]\n",
      " [  9   4   1   0]\n",
      " [  1   0 241   0]\n",
      " [  2   1   0  10]]\n",
      "\n",
      "Classification Report\n",
      "             precision    recall  f1-score   support\n",
      "\n",
      "        acc       0.84      0.79      0.81        77\n",
      "       good       0.80      0.29      0.42        14\n",
      "      unacc       0.93      1.00      0.96       242\n",
      "      vgood       1.00      0.77      0.87        13\n",
      "\n",
      "avg / total       0.91      0.91      0.90       346\n",
      "\n"
     ]
    }
   ],
   "source": [
    "# Using k = 9 for predicting on test to find accuracy\n",
    "classifier = neighbors.KNeighborsClassifier(n_neighbors = 9)\n",
    "classifier.fit(trainval_x, trainval_y)\n",
    "\n",
    "# Validation\n",
    "pred_test_y = classifier.predict(test_x)\n",
    "\n",
    "# Results of classification - Confusion matrix, precision, recall and F1-score\n",
    "print(\"Confusion Matrix\")\n",
    "print(confusion_matrix(test_y, pred_test_y))\n",
    "#print(\"\\nF1-score = {0:.4f}\\n\".format(f1_score(test_y, pred_test_y, pos_label=1, average='binary')))\n",
    "print(\"\\nClassification Report\")\n",
    "print(classification_report(test_y, pred_test_y))\n"
   ]
  },
  {
   "cell_type": "code",
   "execution_count": null,
   "metadata": {},
   "outputs": [],
   "source": [
    "When class_evaluation is acc , the accuracy rate is 84%;\n",
    "When class_evaluation is good , the accuracy rate is 80%;\n",
    "When class_evaluation is unacc , the accuracy rate is 93%;\n",
    "When class_evaluation is vgood , the accuracy rate is 100%;\n",
    "From here, we can see that performances of evaluation classified with vgood is best. "
   ]
  },
  {
   "cell_type": "markdown",
   "metadata": {},
   "source": [
    "## III .  Final Conclusion "
   ]
  },
  {
   "cell_type": "markdown",
   "metadata": {},
   "source": [
    "Comparing the knn model of categorical data and numeric data, we found that the average accuracy of each k in the numeric data  is comparatively higher than each k in categorical data. Also through the classifcation report of models of two different data, we can see that the model for numeric data has higher accurate rates. Therefore, we choose final model using numeric data. From final model of numeric data, we finally select k=6 , with 96% accuracy rate. The performances of evaluation classified with unacc and vgood are best, with 100% accuracy. "
   ]
  }
 ],
 "metadata": {
  "kernelspec": {
   "display_name": "Python 3",
   "language": "python",
   "name": "python3"
  },
  "language_info": {
   "codemirror_mode": {
    "name": "ipython",
    "version": 3
   },
   "file_extension": ".py",
   "mimetype": "text/x-python",
   "name": "python",
   "nbconvert_exporter": "python",
   "pygments_lexer": "ipython3",
   "version": "3.6.4"
  }
 },
 "nbformat": 4,
 "nbformat_minor": 2
}
